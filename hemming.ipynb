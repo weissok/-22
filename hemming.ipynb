{
  "nbformat": 4,
  "nbformat_minor": 0,
  "metadata": {
    "colab": {
      "provenance": [],
      "collapsed_sections": [],
      "include_colab_link": true
    },
    "kernelspec": {
      "name": "python3",
      "display_name": "Python 3"
    },
    "language_info": {
      "name": "python"
    }
  },
  "cells": [
    {
      "cell_type": "markdown",
      "metadata": {
        "id": "view-in-github",
        "colab_type": "text"
      },
      "source": [
        "<a href=\"https://colab.research.google.com/github/weissok/-22/blob/main/hemming.ipynb\" target=\"_parent\"><img src=\"https://colab.research.google.com/assets/colab-badge.svg\" alt=\"Open In Colab\"/></a>"
      ]
    },
    {
      "cell_type": "markdown",
      "source": [
        "Программа перевода по коду Хэмминга"
      ],
      "metadata": {
        "id": "Dokk9uAXQ2aw"
      }
    },
    {
      "cell_type": "code",
      "source": [
        "nums=list(range(10))\n",
        "print(nums)"
      ],
      "metadata": {
        "colab": {
          "base_uri": "https://localhost:8080/"
        },
        "id": "QzGEJK5NQs9-",
        "outputId": "fabc21e9-a584-4495-d510-49a291f6c638"
      },
      "execution_count": null,
      "outputs": [
        {
          "output_type": "stream",
          "name": "stdout",
          "text": [
            "[0, 1, 2, 3, 4, 5, 6, 7, 8, 9]\n"
          ]
        }
      ]
    },
    {
      "cell_type": "markdown",
      "source": [],
      "metadata": {
        "id": "EvEVM8loszk5"
      }
    },
    {
      "cell_type": "code",
      "source": [
        "b='0000000 000111 0010110 0011001 0100101 0101010 0110011 0111100 1000011 1001100'\n",
        "hem=list(map(int, b.split()))\n",
        "print(b.split())\n",
        "print(hem)"
      ],
      "metadata": {
        "id": "APnZUlTrSFBE",
        "colab": {
          "base_uri": "https://localhost:8080/"
        },
        "outputId": "a365bbad-9ac9-4726-9715-764d11e9e9d0"
      },
      "execution_count": null,
      "outputs": [
        {
          "output_type": "stream",
          "name": "stdout",
          "text": [
            "['0000000', '000111', '0010110', '0011001', '0100101', '0101010', '0110011', '0111100', '1000011', '1001100']\n",
            "[0, 111, 10110, 11001, 100101, 101010, 110011, 111100, 1000011, 1001100]\n"
          ]
        }
      ]
    },
    {
      "cell_type": "code",
      "source": [
        "def distance(x: int, y: int) -> int:\n",
        "  k=7\n",
        "  for i in range(7):\n",
        "    if x%10==y%10:\n",
        "      k=k-1\n",
        "    x=x//10\n",
        "    y=y//10\n",
        "  return k"
      ],
      "metadata": {
        "id": "KPFZTMTJVQvQ"
      },
      "execution_count": null,
      "outputs": []
    },
    {
      "cell_type": "code",
      "source": [
        "code=int(input(\"код=\"))"
      ],
      "metadata": {
        "colab": {
          "base_uri": "https://localhost:8080/"
        },
        "id": "c77fF3oxWxp_",
        "outputId": "132a885f-2308-497a-8590-9c5c18df75a1"
      },
      "execution_count": null,
      "outputs": [
        {
          "name": "stdout",
          "output_type": "stream",
          "text": [
            "код=0010110\n"
          ]
        }
      ]
    },
    {
      "cell_type": "code",
      "source": [
        "min=distance(code ,hem[0])\n",
        "imin=0\n",
        "for i in range(10):\n",
        "  D=distance(code, hem[i])\n",
        "  if D<min:\n",
        "    min=D\n",
        "    imin=i\n",
        "if min==0:  \\\n",
        "  print(f\"Код верный: символ {nums[imin]}\")\n",
        "elif min==1:\n",
        "  print(f\"Код исправлен: символ {nums[imin]}\")\n",
        "else:print(\"Код неверный\")\n"
      ],
      "metadata": {
        "colab": {
          "base_uri": "https://localhost:8080/"
        },
        "id": "ULLrpyquXMnx",
        "outputId": "3443169a-59cf-4cd2-9fcc-107dc82787da"
      },
      "execution_count": null,
      "outputs": [
        {
          "output_type": "stream",
          "name": "stdout",
          "text": [
            "Код верный: символ 1\n"
          ]
        }
      ]
    },
    {
      "cell_type": "code",
      "source": [
        "conn = sqlite3.connect('orders.db')\n",
        "cur = conn.cursor()\n",
        "\n",
        "sql()"
      ],
      "metadata": {
        "id": "tPDjwPz5p9XH"
      },
      "execution_count": null,
      "outputs": []
    }
  ]
}